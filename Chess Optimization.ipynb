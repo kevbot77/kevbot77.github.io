{
 "cells": [
  {
   "cell_type": "markdown",
   "metadata": {},
   "source": [
    "## CS/ECE/ISyE 524 — Introduction to Optimization — Spring 2017"
   ]
  },
  {
   "cell_type": "markdown",
   "metadata": {},
   "source": [
    "# Chess Replacement"
   ]
  },
  {
   "cell_type": "markdown",
   "metadata": {},
   "source": [
    "Junchao Chen (jchen395@wisc.edu), Weiyun Hua (whua3@wisc.edu), and Qiwen Shu (qshu@wisc.edu)\n"
   ]
  },
  {
   "cell_type": "markdown",
   "metadata": {
    "collapsed": true
   },
   "source": [
    "## Table of Contents\n",
    "\n",
    "<a href='#intro'>1.Introduction</a ><br />\n",
    "<a href='#Mathematical'>2.Mathematical model</a ><br />\n",
    "&nbsp;&nbsp;&nbsp;&nbsp;&nbsp;&nbsp;<a href='#single'>A. Singular Chess Placement</a ><br />\n",
    "&nbsp;&nbsp;&nbsp;&nbsp;&nbsp;&nbsp;<a href='#mixed'>B. Mixed Chess Placement</a ><br />\n",
    "&nbsp;&nbsp;&nbsp;&nbsp;&nbsp;&nbsp;<a href='#checkmate'>C.Real Practice : Checkmate!</a >\n",
    "\n",
    "<a href='#Solution'>3.Solution</a ><br />\n",
    "&nbsp;&nbsp;&nbsp;&nbsp;&nbsp;&nbsp;<a href='#Singular'>A. Singular Chess Placement</a ><br />\n",
    "&nbsp;&nbsp;&nbsp;&nbsp;&nbsp;&nbsp;&nbsp;&nbsp;&nbsp;&nbsp;&nbsp;&nbsp;<a href='#knight'>1.Knights</a ><br />\n",
    "&nbsp;&nbsp;&nbsp;&nbsp;&nbsp;&nbsp;&nbsp;&nbsp;&nbsp;&nbsp;&nbsp;&nbsp;<a href='#pawn'>2.Pawns</a ><br />\n",
    "&nbsp;&nbsp;&nbsp;&nbsp;&nbsp;&nbsp;&nbsp;&nbsp;&nbsp;&nbsp;&nbsp;&nbsp;<a href='#king'>3.Kings</a ><br />\n",
    "&nbsp;&nbsp;&nbsp;&nbsp;&nbsp;&nbsp;<a href='#dominant'>B. Mixed Chess Placement: Dominance</a ><br />\n",
    "&nbsp;&nbsp;&nbsp;&nbsp;&nbsp;&nbsp;<a href='#check'>C. Chess Placement: Checkmate</a >\n",
    "\n",
    "<a href='#discussion'>4. Results and Discussion</a ><br />\n",
    "&nbsp;&nbsp;&nbsp;&nbsp;&nbsp;&nbsp;<a href='#analysis1'>A. Singular placement results and tradeoff analysis</a ><br />\n",
    "&nbsp;&nbsp;&nbsp;&nbsp;&nbsp;&nbsp;<a href='#analysis2'>B. Mixed placement results</a ><br />\n",
    "&nbsp;&nbsp;&nbsp;&nbsp;&nbsp;&nbsp;<a href='#analysis3'>C. Chess Placement: Checkmate and tradeoff analysis</a ><br />\n",
    "&nbsp;&nbsp;&nbsp;&nbsp;&nbsp;&nbsp;<a href='#analysis4'>D. Model Limitation and Further Improvements</a ><br />\n",
    "\n",
    "<a href='#conclusion'>5. Conclusion</a >\n",
    "\n"
   ]
  },
  {
   "cell_type": "markdown",
   "metadata": {},
   "source": [
    "<a id='intro'></a >\n",
    "# 1. Introduction"
   ]
  },
  {
   "cell_type": "markdown",
   "metadata": {},
   "source": [
    "The report was intended to explore some optimization options based on the game of chess. The Chess, originated in India sometime before the 7th century, is a popular two-player strategy game with a checkered gameboard with 64 squares arranged in an 8×8 grid. It has been around the world over centuries and played by millions of people worldwide. \n",
    "\n",
    "There are 16 pieces of chess for each side: 1 king, 1 queen, 2rooks, 2 knights, 2 bishops, and 8 pawns. The goal of the game is to checkmate the opponent's king by placing it under an inescapable threat of capture. \n",
    "\n",
    "Each member of the chess has its unique pattern of moving (capturing). These pieces assumed their current powers in Spain in the late 15th century and the rules are finalized in the 19th century. We define the moving pattern of pawns as moving diagonally by one square for each step. The moving patterns of other kinds of chesses are decribed as below: \n",
    "\n",
    "![alt text](https://juliabox.com/files/Pattern.PNG) \n",
    "[citation](https://en.wikipedia.org/wiki/Chess)\n",
    "\n",
    "\n",
    "As we can see from the abovechart, queen has the most powerful moving pattern, covering the widest ranges on the board while the pawn has the least powerful moving pattern. Bishop, rook, and knight are relatively dominant to each other under different circumstances. \n",
    "\n",
    "\n",
    "\n"
   ]
  },
  {
   "cell_type": "markdown",
   "metadata": {
    "collapsed": true
   },
   "source": [
    "Under these abovementioned unique rule for each chess, a certain series of recreational mathematics problems have been developed. Two typical problem set, Independence problems and domination problems with the queen were given in the homework problem set. Based on the question, we are determined to explore more optimization problems under other circumstances.  "
   ]
  },
  {
   "cell_type": "markdown",
   "metadata": {},
   "source": [
    "<a id='Mathematical'></a >\n",
    "# 2.Mathematical model"
   ]
  },
  {
   "cell_type": "markdown",
   "metadata": {},
   "source": [
    "### General Problem Setting: "
   ]
  },
  {
   "cell_type": "markdown",
   "metadata": {
    "collapsed": true
   },
   "source": [
    "We are given certain settings and limitations to determine : \n",
    "\n",
    "1.Independence problem: Maximum number of chess to place on the board without threatening each other\n",
    "\n",
    "2.Domination problem: Minimum number of chess to place on the board that threatening all the squares. \n"
   ]
  },
  {
   "cell_type": "markdown",
   "metadata": {},
   "source": [
    "<a id='single'></a >\n",
    "### 2.A. Singular Chess Placement: \n",
    "\n",
    "Solve the independence problem and domination problem for King, Knights and Pawns where only one kind of chess are allowed to be used. We decide not to do queen, bishop and rook since the queen's solution has been covered in the homework solution. In addition, queen can be viewed as a combination of bishop and rook, therefore, they will not be covered either.   "
   ]
  },
  {
   "cell_type": "markdown",
   "metadata": {
    "collapsed": true
   },
   "source": [
    "#### Part 1 General Setup\n",
    "To start with, we will have a function called *printBoard* that serves as a helper function to print a chess board. The *input* for the helper function will be the variable that contains the information on the placement of the chess and a parameter for the dimension of the chess board. \n",
    "\n",
    "We will be modeling this problem based on the example of sudoku problem where we will create a 8*8 binary matrix variable (x[1:8, 1:8]) to take account all 64 squares of the board. We would be making constraints to keep track of the replacement of chess on the board to ensure the corresponding requirements are satisfied. Loops are widely used in constructing constraints. \n",
    "\n",
    "#### Part 2 Independence\n",
    "\n",
    "For Indepence problem, constraints are constructed to ensure each chess member will not threaten each other. Under that case, we have to ensure that the sum of the possible movement on each square <= 1, indicating that each square can only be reached by at most one chess. We will then have an objective that aims to maximize the total number of chess that we can put on the board. The following represents the optimization problem in standard form: \n",
    "\n",
    "\n",
    "Let $S_i,_j$ be the set of placements that are reachable from the placement of chess x[i,j]\n",
    " \n",
    "###### Decision Variables:\n",
    "\n",
    "Define binary matrix variable x[i,j] to indicate whether chess board is empty or occupied.\n",
    "\n",
    "###### Constraints:\n",
    "\n",
    "Each placement of chess x[i,j] and one of its reachable places x[a,b] have conflicts. At most one of them can be occupied. That is x[i, j] + x[a, b] <=1.\n",
    "\n",
    "###### Objective:\n",
    "Maximize the total number of occupied placement.\n",
    "\n",
    "###### Model:\n",
    "\n",
    "This is an **ILP** model.\n",
    "\n",
    "Maximize: $$ \\sum_{i=1}^{n}\\sum_{j=1}^{n}x[i,j]$$\n",
    "Subject to: \n",
    "$$ x[ i, j ]\\in {0,1}, \\forall i \\in {1,2,...,n}, \\forall j \\in {1,2,...,n} $$\n",
    "\n",
    "$$ x[ i, j ]+x[ a , b ] \\le 1, \\forall x[ a , b ] \\in S_i,_j, \\forall i \\in {1,2,...,n}, \\forall j \\in {1,2,...,n} $$ \n"
   ]
  },
  {
   "cell_type": "markdown",
   "metadata": {},
   "source": [
    "#### Part 3 Dominance                  \n",
    "\n",
    "For Dominance problem, constraints are constructed to ensure each square on the board is threatened by at least one chess. Under that case, we have to ensure that the sum of the possible movement on each square >= 1, indicating that each square on the board has to be reached by at least one chess. We will then have an objective that aims to minimize the total number of chess that we can put on the board. The following represents the optimization problem in standard form:    \n",
    "   \n",
    "Let $S_i,_j$ be the set of placements that are reachable to the placement of chess x[i,j]\n",
    " \n",
    "###### Decision Variables:\n",
    "\n",
    "Define binary matrix variable x[i,j] to indicate whether chess board is empty or occupied.\n",
    "\n",
    "###### Constraints:\n",
    "\n",
    "Each square on the board has to be reached by at least one chess. That is $ \\sum_{}x[ a, b ] \\ge 1, \\forall x[ a , b ] \\in S_i,_j$\n",
    "\n",
    "###### Objective:\n",
    "\n",
    "Minimize the total number of occupied placement.\n",
    "\n",
    "###### Model:\n",
    "\n",
    "This is an **ILP** model.\n",
    "\n",
    "Minimize: $$\\sum_{i=1}^{n}\\sum_{j=1}^{n}x[i,j]$$\n",
    "\n",
    "Subject to: $$ x[ i, j ] \\in {0,1}, \\forall i \\in {1,2,...,n}, \\forall j \\in {1,2,...,n} $$\n",
    "        $$ \\sum_{}x[ a, b ] \\ge 1, \\forall x[ a , b ] \\in S_i,_j, \\forall i \\in {1,2,...,n}, \\forall j \\in {1,2,...,n} $$\n",
    "\n",
    "\n"
   ]
  },
  {
   "cell_type": "markdown",
   "metadata": {},
   "source": [
    "<a id='mixed'></a >\n",
    "### 2.B. Mixed Chess Placement: "
   ]
  },
  {
   "cell_type": "markdown",
   "metadata": {
    "collapsed": true
   },
   "source": [
    "In this part, we are using a mixed type chess strategy to solve the domination problem. In order to evaluate each placement, we need to assign a score to each chess member. The score is used to represent how “powerful” a chess’s threatening power is. It can be determined based on the previous result, we decide to take the reciprocity as its value. Since the threatening pattern of queen can be regarded as a combination of bishop and rook, we will only consider queen for the mixed strategy. In addition, the moving pattern of the pawn can be viewed as a sub moving pattern of the king, therefore pawn will also be eliminated from the mixed placement strategy. Therefore, the values of the selected chesses are displayed as the following: \n",
    "\n",
    "King: 1/3\n",
    "\n",
    "Queen : 3/5\n",
    "\n",
    "Knight: 1/4"
   ]
  },
  {
   "cell_type": "markdown",
   "metadata": {
    "collapsed": true
   },
   "source": [
    "With the scores that we have assigned, we are trying to determine the optimized way of placement for independence problem and domination problem. \n",
    "####   Part 1 General Setup\n",
    "\n",
    "To start with, we still use the function *printBoard* that serves as a helper function to print a chess board. However, the *input* for the helper function will be three variable that contains the information on the placement of each chess on the board and a parameter for the dimension of the chess board. In addition, an array of threatening power value will be created prior to modeling.  \n",
    "\n",
    "We will follow the previous model where we will create a 8*8 binary matrix variable (x[1:8, 1:8], y[1:8, 1:8],z[1:8, 1:8]) to take account all 64 squares of the board corresponding to king, queen, and knight's placement. We would be making constraints to keep track of the status of each square to ensure the corresponding requirements are satisfied. Loops are widely used in constructing constraints. "
   ]
  },
  {
   "cell_type": "markdown",
   "metadata": {
    "collapsed": false
   },
   "source": [
    "#### Part 2 Mixed Dominance                  \n",
    "\n",
    "For Dominance problem, constraints are constructed to ensure each square on the board is threatened by at least one chess. Under that case, we have to ensure that the sum of all possible movement from all three selected chess members on each square >= 1, indicating that each square on the board has to be reached by at least one chess. As for the objective, we will try to minimize the sumproduct of the chess number along with its associated values to achieve the minimum score. The following represents the optimization problem in standard form:    \n",
    "\n",
    "Let $S_i,_j$ be the set of placements that are reachable to the placement of x[i,j], where x[i,j] = king[i,j] + queen[i,j] + knight[i,j].\n",
    "\n",
    "Let $P_n$ be the set of chess score, where n = different kinds of chesses. n=1:king; n=2:queen; n=3:knight.\n",
    "\n",
    "###### Decision Variables:\n",
    "\n",
    "Define binary matrix variable king[i,j] to indicate whether chess board is empty or occupied for king.\n",
    "\n",
    "Define binary matrix variable queen[i,j] to indicate whether chess board is empty or occupied for queen.\n",
    "\n",
    "Define binary matrix variable knight[i,j] to indicate whether chess board is empty or occupied for knight.\n",
    "\n",
    "###### Constraints:\n",
    "\n",
    "The placement of king, queen, and knight cannot overlap. That is $ king[ i, j ]+queen[ i, j ]+knight[ i, j ] \\le 1$\n",
    "\n",
    "Each square on the board has to be reached by at least one chess. That is $ \\sum_{}x[ a, b ] \\ge 1, \\forall x[ a , b ] \\in S_i,_j$\n",
    "\n",
    "###### Objective:\n",
    "\n",
    "Minimize the total score that needed to threat all squares on the board.\n",
    "\n",
    "###### Model:\n",
    "\n",
    "This is an **ILP** model.\n",
    "\n",
    "Minimize: $$\\sum_{i=1}^{n}\\sum_{j=1}^{n}king[i,j]*P_1+queen[i,j]*P_2+knight[i,j]*P_3$$\n",
    "\n",
    "Subject to: $$ king[ i, j ] \\in{0,1}$$\n",
    "\n",
    "$$ queen[ i, j ] \\in {0,1}$$\n",
    "\n",
    "$$ knight[ i, j ] \\in {0,1}$$\n",
    "\n",
    "$$ x[ i, j ] \\le 1$$\n",
    "\n",
    "$$ \\sum_{}x[ a, b ] \\ge 1, \\forall x[ a , b ] \\in S_i,_j$$\n",
    "$$ \\forall i \\in {1,2,...,n}, \\forall j \\in {1,2,...,n}$$\n"
   ]
  },
  {
   "cell_type": "markdown",
   "metadata": {},
   "source": [
    "<a id='checkmate'></a >\n",
    "### 2.C.Real Practice : Checkmate! "
   ]
  },
  {
   "cell_type": "markdown",
   "metadata": {
    "collapsed": true
   },
   "source": [
    "Now we are trying to model the problem based on the real chess setup. Checkmate is always the most exciting part in the chess game, if we can make sure the whole board is threatened by our \"force\", we are guaranteed to checkmate our opponment. Therefore, we are trying to determine the most effective way of dominating the whole board under a whole \"kingdom\" force. The following represents the optimization problem in standard form:    \n",
    "\n",
    "Let $S_i,_j$ be the set of placements that are reachable to the placement of x[i,j], where x[i,j] = king[i,j] + queen[i,j] + knight[i,j] + bishop[i,j] + rook[i,j] + pawn[i,j]\n",
    "\n",
    "Let $P_n$ be the set of chess score, where n = different kinds of chesses. n=1:king; n=2:queen; n=3:knight; n=4:bishop; n=5:rook; n=6:pawn.\n",
    "\n",
    "###### Decision Variables:\n",
    "\n",
    "Define binary matrix variable king[i,j] to indicate whether chess board is empty or occupied for king.\n",
    "\n",
    "Define binary matrix variable queen[i,j] to indicate whether chess board is empty or occupied for queen.\n",
    "\n",
    "Define binary matrix variable knight[i,j] to indicate whether chess board is empty or occupied for knight.\n",
    "\n",
    "Define binary matrix variable bishop[i,j] to indicate whether chess board is empty or occupied for bishop.\n",
    "\n",
    "Define binary matrix variable rook[i,j] to indicate whether chess board is empty or occupied for rook.\n",
    "\n",
    "Define binary matrix variable pawn[i,j] to indicate whether chess board is empty or occupied for pawn.\n",
    "\n",
    "###### Constraints:             \n",
    "\n",
    "The placement of king, queen, knight, bishop, rook, and pawn cannot overlap. That is $ x[ i, j ] \\le 1$\n",
    "\n",
    "Each square on the board has to be reached by at least one chess. That is $ \\sum_{}x[ a, b ] \\ge 1, \\forall x[ a , b ] \\in S_i,_j$\n",
    "\n",
    "The number of each kind of chesses cannot exceed its assigned limit.\n",
    "\n",
    "###### Objective:\n",
    "\n",
    "Minimize the sumproduct of score and all six kinds of chess.\n",
    "\n",
    "###### Model:\n",
    "\n",
    "This is an **ILP** model.\n",
    "\n",
    "Minimize: $$\\sum_{i=1}^{n}\\sum_{j=1}^{n}(king[i,j]*p_1+queen[i,j]*p_2+knight[i,j]*p_3+bishop[i,j]*p_4+rook[i,j]*p_5+pawn[i,j]*p_6)$$\n",
    "\n",
    "Subject to: $$ king[ i, j ] \\in{0,1}$$\n",
    "\n",
    "$$ queen[ i, j ] \\in {0,1}$$\n",
    "\n",
    "$$ knight[ i, j ] \\in {0,1}$$\n",
    "\n",
    "$$ bishop[ i, j ] \\in {0,1}$$\n",
    "\n",
    "$$ rook[ i, j ] \\in {0,1}$$\n",
    "\n",
    "$$ pawn[ i, j ] \\in {0,1}$$\n",
    "\n",
    "$$ x[ i, j ] \\le 1$$\n",
    "\n",
    "$$ \\sum_{}x[ a, b ] \\ge 1, \\forall x[ a , b ] \\in S_i,_j, \\forall i \\in {1,2,...,n}, \\forall j \\in {1,2,...,n}$$\n",
    "\n",
    "$$\\sum_{i=1}^{n}\\sum_{j=1}^{n}king[ i, j ] \\le 1$$\n",
    "\n",
    "$$\\sum_{i=1}^{n}\\sum_{j=1}^{n}queen[ i, j ] \\le 1$$\n",
    "\n",
    "$$\\sum_{i=1}^{n}\\sum_{j=1}^{n}knight[ i, j ] \\le 2$$\n",
    "\n",
    "$$\\sum_{i=1}^{n}\\sum_{j=1}^{n}bishop[ i, j ] \\le 2$$\n",
    "\n",
    "$$\\sum_{i=1}^{n}\\sum_{j=1}^{n}rook[ i, j ] \\le 2$$\n",
    "\n",
    "$$\\sum_{i=1}^{n}\\sum_{j=1}^{n}pawn[ i, j ] \\le 8$$"
   ]
  },
  {
   "cell_type": "markdown",
   "metadata": {
    "collapsed": true
   },
   "source": [
    "<a id='Solution'></a >\n",
    "# 3.Solution"
   ]
  },
  {
   "cell_type": "markdown",
   "metadata": {},
   "source": [
    "### Helper Function"
   ]
  },
  {
   "cell_type": "code",
   "execution_count": 36,
   "metadata": {
    "collapsed": false
   },
   "outputs": [
    {
     "name": "stderr",
     "output_type": "stream",
     "text": [
      "WARNING: Method definition printBoard(Any, Any, Any, Any, Any, Any, Any) in module Main at In[34]:3 overwritten at In[36]:3.\n"
     ]
    },
    {
     "data": {
      "text/plain": [
       "printBoard (generic function with 3 methods)"
      ]
     },
     "execution_count": 36,
     "metadata": {},
     "output_type": "execute_result"
    }
   ],
   "source": [
    "# helper function to print a chess board\n",
    "function printBoard(X,Y,Z,A,B,C,n)\n",
    "    print(\"+\")\n",
    "    for i in 1:n\n",
    "        print(\"---+\")\n",
    "    end\n",
    "    print(\"\\n\")\n",
    "    \n",
    "    for i in 1:n\n",
    "        print(\"| \")\n",
    "        for j in 1:n\n",
    "            if (X[i,j] == 1)\n",
    "                print(\"K\")\n",
    "                print(\" | \")\n",
    "            elseif (Y[i,j] == 1)\n",
    "                print(\"Q\")\n",
    "                print(\" | \")\n",
    "            elseif (Z[i,j] == 1)\n",
    "                print(\"N\")\n",
    "                print(\" | \")\n",
    "            elseif (A[i,j] == 1)\n",
    "                print(\"P\")\n",
    "                print(\" | \")\n",
    "            elseif (B[i,j] == 1)\n",
    "                print(\"B\")\n",
    "                print(\" | \")\n",
    "            elseif (C[i,j] == 1)\n",
    "                print(\"R\")\n",
    "                print(\" | \")\n",
    "            else\n",
    "                print(\" \")\n",
    "                print(\" | \")\n",
    "            end\n",
    "        end\n",
    "        print(\"\\n\")\n",
    "        print(\"+\")\n",
    "        for j in 1:n\n",
    "            print(\"---+\")\n",
    "        end\n",
    "        print(\"\\n\")\n",
    "    end\n",
    "end"
   ]
  },
  {
   "cell_type": "markdown",
   "metadata": {
    "collapsed": true
   },
   "source": [
    "<a id='Singular'></a >\n",
    "### 3A. Singular Chess Placement:"
   ]
  },
  {
   "cell_type": "markdown",
   "metadata": {
    "collapsed": true
   },
   "source": [
    "<a id='knight'></a >\n",
    "##### Knight\n",
    "\n",
    "\n",
    "Independence: Place as many knights as possible on the board so that no two knights threaten each other."
   ]
  },
  {
   "cell_type": "code",
   "execution_count": 37,
   "metadata": {
    "collapsed": false
   },
   "outputs": [
    {
     "name": "stderr",
     "output_type": "stream",
     "text": [
      "WARNING: Method definition knightIndependence(Any) in module Main at In[9]:5 overwritten at In[37]:5.\n"
     ]
    }
   ],
   "source": [
    "using JuMP, Cbc\n",
    "\n",
    "function knightIndependence(n)\n",
    "\n",
    "m1 = Model(solver=CbcSolver())\n",
    "@variable(m1, x[1:n,1:n], Bin)\n",
    "for i in 1:n\n",
    "    for j in 1:n\n",
    "        if (i-2 > 0)\n",
    "            if (j+1 < n+1)\n",
    "                @constraint(m1, x[i,j] + x[i-2,j+1] <= 1)\n",
    "            end\n",
    "            if (j-1 > 0)\n",
    "                 @constraint(m1, x[i,j] + x[i-2,j-1] <= 1)\n",
    "            end\n",
    "        end  \n",
    "        if (i-1 > 0)\n",
    "            if(j+2 < n+1)\n",
    "                 @constraint(m1, x[i,j] + x[i-1,j+2] <= 1)\n",
    "            end\n",
    "            if(j-2 > 0)\n",
    "                 @constraint(m1, x[i,j] + x[i-1,j-2] <= 1)\n",
    "            end\n",
    "        end\n",
    "        if (i+1 < n+1)\n",
    "            if(j-2 > 0)\n",
    "                 @constraint(m1, x[i,j] + x[i+1,j-2] <= 1)\n",
    "            end\n",
    "            if(j+2 < n+1)\n",
    "                 @constraint(m1, x[i,j] + x[i+1,j+2] <= 1)\n",
    "            end\n",
    "        end\n",
    "        if (i+2 < n+1)\n",
    "            if (j+1 < n+1)\n",
    "                @constraint(m1, x[i,j] + x[i+2,j+1] <= 1)\n",
    "            end\n",
    "            if (j-1 > 0)\n",
    "                @constraint(m1, x[i,j] + x[i+2,j-1] <= 1)\n",
    "            end\n",
    "        end\n",
    "    end\n",
    "end\n",
    "@objective(m1, Max, sum(x))\n",
    "status = solve(m1)\n",
    "return getvalue(x), getobjectivevalue(m1)\n",
    "end\n",
    ";"
   ]
  },
  {
   "cell_type": "markdown",
   "metadata": {
    "collapsed": true
   },
   "source": [
    "Dominance: Place as few knights as possible on the board to cover the whole board."
   ]
  },
  {
   "cell_type": "code",
   "execution_count": 38,
   "metadata": {
    "collapsed": false
   },
   "outputs": [
    {
     "name": "stderr",
     "output_type": "stream",
     "text": [
      "WARNING: Method definition knightDomination(Any) in module Main at In[10]:4 overwritten at In[38]:4.\n"
     ]
    }
   ],
   "source": [
    "using JuMP, Cbc\n",
    "function knightDomination(n)\n",
    "\n",
    "m2 = Model(solver=CbcSolver())\n",
    "@variable(m2, x[1:n,1:n], Bin)\n",
    "s = x*0\n",
    "for i in 1:n\n",
    "    for j in 1:n\n",
    "        s[i,j] = s[i,j] + x[i,j]\n",
    "        if (i-2 > 0)\n",
    "            if (j+1 < n+1)\n",
    "                s[i,j] = s[i,j] + x[i-2,j+1]\n",
    "            end\n",
    "            if (j-1 > 0)\n",
    "                 s[i,j] = s[i,j] + x[i-2,j-1]\n",
    "            end\n",
    "        end  \n",
    "        if (i-1 > 0)\n",
    "            if(j+2 < n+1)\n",
    "                 s[i,j] = s[i,j] + x[i-1,j+2]\n",
    "            end\n",
    "            if(j-2 > 0)\n",
    "                 s[i,j] = s[i,j] + x[i-1,j-2]\n",
    "            end\n",
    "        end\n",
    "         if (i+1 < n+1)\n",
    "            if(j-2 > 0)\n",
    "                 s[i,j] = s[i,j] + x[i+1,j-2]\n",
    "            end\n",
    "            if(j+2 < n+1)\n",
    "                 s[i,j] = s[i,j] + x[i+1,j+2]\n",
    "            end\n",
    "        end\n",
    "        if (i+2 < n+1)\n",
    "            if (j+1 < n+1)\n",
    "                s[i,j] = s[i,j] + x[i+2,j+1]\n",
    "            end\n",
    "            if (j-1 > 0)\n",
    "                s[i,j] = s[i,j] + x[i+2,j-1]\n",
    "            end\n",
    "        end\n",
    "        @constraint(m2, s[i,j]>=1)\n",
    "    end\n",
    "end\n",
    "@objective(m2, Min, sum(x))\n",
    "status = solve(m2)\n",
    "return getvalue(x), getobjectivevalue(m2)\n",
    "end\n",
    ";"
   ]
  },
  {
   "cell_type": "markdown",
   "metadata": {
    "collapsed": true
   },
   "source": [
    "<a id='pawn'></a >\n",
    "##### Pawn\n",
    "\n",
    "Independence: Place as many Pawns as possible on the board so that no two Pawns threaten each other."
   ]
  },
  {
   "cell_type": "code",
   "execution_count": 39,
   "metadata": {
    "collapsed": false
   },
   "outputs": [
    {
     "name": "stderr",
     "output_type": "stream",
     "text": [
      "WARNING: Method definition pawnIndependence(Any) in module Main at In[11]:3 overwritten at In[39]:3.\n"
     ]
    }
   ],
   "source": [
    "using JuMP, Cbc\n",
    "function pawnIndependence(n)\n",
    "m3 = Model(solver=CbcSolver())\n",
    "@variable(m3, x[1:n,1:n], Bin)\n",
    "for i in 1:n\n",
    "    for j in 1:n\n",
    "        if (i-1 > 0)\n",
    "            if (j+1 < n+1)\n",
    "                @constraint(m3, x[i,j] + x[i-1,j+1] <=1)\n",
    "            end\n",
    "            if (j-1 > 0)\n",
    "                  @constraint(m3, x[i,j] + x[i-1,j-1] <=1)\n",
    "            end\n",
    "        end  \n",
    "         if (i+1 < n+1)\n",
    "            if(j-1 > 0)\n",
    "                  @constraint(m3, x[i,j] + x[i+1,j-1] <=1)\n",
    "            end\n",
    "            if(j+1 < n+1)\n",
    "                  @constraint(m3, x[i,j] + x[i+1,j+1] <=1)\n",
    "            end\n",
    "        end\n",
    "    end\n",
    "end\n",
    "@objective(m3, Max, sum(x))\n",
    "status = solve(m3)\n",
    "return getvalue(x), getobjectivevalue(m3)\n",
    "end\n",
    ";"
   ]
  },
  {
   "cell_type": "markdown",
   "metadata": {
    "collapsed": true
   },
   "source": [
    "Dominance: Place as few Pawns as possible on the board so that the whole board is covered."
   ]
  },
  {
   "cell_type": "code",
   "execution_count": 40,
   "metadata": {
    "collapsed": false
   },
   "outputs": [
    {
     "name": "stderr",
     "output_type": "stream",
     "text": [
      "WARNING: Method definition pawnDomination(Any) in module Main at In[12]:3 overwritten at In[40]:3.\n"
     ]
    }
   ],
   "source": [
    "using JuMP, Cbc\n",
    "function pawnDomination(n)\n",
    "m4 = Model(solver=CbcSolver())\n",
    "@variable(m4, x[1:n,1:n], Bin)\n",
    "s = x*0\n",
    "for i in 1:n\n",
    "    for j in 1:n\n",
    "        s[i,j] = s[i,j] + x[i,j]\n",
    "        if (i-1 > 0)\n",
    "            if (j+1 < n+1)\n",
    "                s[i,j] = s[i,j] + x[i-1,j+1]\n",
    "            end\n",
    "            if (j-1 > 0)\n",
    "                 s[i,j] = s[i,j] + x[i-1,j-1]\n",
    "            end\n",
    "        end  \n",
    "         if (i+1 < n+1)\n",
    "            if(j-1 > 0)\n",
    "                 s[i,j] = s[i,j] + x[i+1,j-1]\n",
    "            end\n",
    "            if(j+1 < n+1)\n",
    "                 s[i,j] = s[i,j] + x[i+1,j+1]\n",
    "            end\n",
    "        end\n",
    "        @constraint(m4, s[i,j]>=1)\n",
    "    end\n",
    "end\n",
    "@objective(m4, Min, sum(x))\n",
    "status = solve(m4)\n",
    "return getvalue(x), getobjectivevalue(m4)\n",
    "end\n",
    ";"
   ]
  },
  {
   "cell_type": "markdown",
   "metadata": {
    "collapsed": true
   },
   "source": [
    "<a id='king'></a >\n",
    "##### King\n",
    "\n",
    "Independence: Place as many Kings as possible on the board so that no two kings threaten each other. "
   ]
  },
  {
   "cell_type": "code",
   "execution_count": 41,
   "metadata": {
    "collapsed": false
   },
   "outputs": [
    {
     "name": "stderr",
     "output_type": "stream",
     "text": [
      "WARNING: Method definition kingIndependence(Any) in module Main at In[13]:4 overwritten at In[41]:4.\n"
     ]
    }
   ],
   "source": [
    "using JuMP, Cbc\n",
    "\n",
    "function kingIndependence(n)\n",
    "m1 = Model(solver=CbcSolver())\n",
    "@variable(m1, x[1:n,1:n], Bin)\n",
    "\n",
    "\n",
    "for p in 0:n-2\n",
    "    for q in 0:n-2\n",
    "        @constraint(m1, sum(x[p+i,q+j] for i in 1:2, j in 1:2) <= 1) # every squares with four cells must sum to 1\n",
    "    end\n",
    "end\n",
    "\n",
    "@objective(m1, Max, sum(x))\n",
    "solve(m1)\n",
    "return getvalue(x), getobjectivevalue(m1)\n",
    "end\n",
    ";"
   ]
  },
  {
   "cell_type": "markdown",
   "metadata": {
    "collapsed": true
   },
   "source": [
    "Dominance: Place as few Kings as possible on the board so that all the squares are covered. "
   ]
  },
  {
   "cell_type": "code",
   "execution_count": 42,
   "metadata": {
    "collapsed": false
   },
   "outputs": [
    {
     "name": "stderr",
     "output_type": "stream",
     "text": [
      "WARNING: Method definition kingDomination(Any) in module Main at In[14]:5 overwritten at In[42]:5.\n"
     ]
    }
   ],
   "source": [
    "using JuMP, Cbc\n",
    "\n",
    "function kingDomination(n)\n",
    "\n",
    "m5 = Model(solver=CbcSolver())\n",
    "\n",
    "@variable(m5, x[1:n,1:n], Bin)\n",
    "s = x*0\n",
    "    \n",
    "    \n",
    "for i in 1:n\n",
    "    for j in 1:n\n",
    "        s[i,j] = s[i,j] + x[i,j]\n",
    "        if (i-1 > 0)\n",
    "                s[i,j] = s[i,j] + x[i-1,j]\n",
    "            if (j+1 < n+1)\n",
    "                s[i,j] = s[i,j] + x[i,j+1]\n",
    "                s[i,j] = s[i,j] + x[i-1,j+1]\n",
    "            end\n",
    "            if (j-1 > 0)\n",
    "                s[i,j] = s[i,j] + x[i,j-1]\n",
    "                s[i,j] = s[i,j] + x[i-1,j-1]\n",
    "            end\n",
    "        end  \n",
    "         if (i+1 < n+1)\n",
    "                s[i,j] = s[i,j] + x[i+1,j]\n",
    "            if(j-1 > 0)\n",
    "                s[i,j] = s[i,j] + x[i+1,j-1]\n",
    "            end\n",
    "            if(j+1 < n+1)\n",
    "                s[i,j] = s[i,j] + x[i+1,j+1]\n",
    "            end\n",
    "        end\n",
    "        @constraint(m5, s[i,j]>=1)\n",
    "    end\n",
    "end\n",
    "\n",
    "\n",
    "@objective(m5, Min, sum(x))\n",
    "solve(m5)\n",
    "return getvalue(x), getobjectivevalue(m5)\n",
    "end\n",
    ";"
   ]
  },
  {
   "cell_type": "markdown",
   "metadata": {},
   "source": [
    "<a id='dominant'></a >\n",
    "### 3B. Mixed Chess Placement: Dominance "
   ]
  },
  {
   "cell_type": "code",
   "execution_count": 43,
   "metadata": {
    "collapsed": false
   },
   "outputs": [
    {
     "name": "stderr",
     "output_type": "stream",
     "text": [
      "WARNING: Method definition mixDomination(Any, Any, Any) in module Main at In[16]:3 overwritten at In[43]:3.\n"
     ]
    }
   ],
   "source": [
    "using JuMP, Cbc\n",
    "function mixDomination(a,b,c)\n",
    "n=8\n",
    "scores = [a b c] # scores of king, queen, and knight respectively\n",
    "m2 = Model(solver=CbcSolver())\n",
    "@variable(m2, king[1:n,1:n], Bin) # king\n",
    "@variable(m2, queen[1:n,1:n], Bin) # queen\n",
    "@variable(m2, knight[1:n,1:n], Bin) # knight\n",
    "s=king*0 # sum\n",
    "\n",
    "# king\n",
    "for i in 1:n\n",
    "    for j in 1:n\n",
    "        s[i,j] = s[i,j] + king[i,j]\n",
    "        if (i-1 > 0)\n",
    "                s[i,j] = s[i,j] + king[i-1,j]\n",
    "            if (j+1 < n+1)\n",
    "                s[i,j] = s[i,j] + king[i,j+1]\n",
    "                s[i,j] = s[i,j] + king[i-1,j+1]\n",
    "            end\n",
    "            if (j-1 > 0)\n",
    "                s[i,j] = s[i,j] + king[i,j-1]\n",
    "                s[i,j] = s[i,j] + king[i-1,j-1]\n",
    "            end\n",
    "        end  \n",
    "         if (i+1 < n+1)\n",
    "                s[i,j] = s[i,j] + king[i+1,j]\n",
    "            if(j-1 > 0)\n",
    "                s[i,j] = s[i,j] + king[i+1,j-1]\n",
    "            end\n",
    "            if(j+1 < n+1)\n",
    "                s[i,j] = s[i,j] + king[i+1,j+1]\n",
    "            end\n",
    "        end\n",
    "    end\n",
    "end\n",
    "\n",
    "# queen\n",
    "for i in 1:n\n",
    "    for j in 1:n\n",
    "        s[i,j] = s[i,j] + sum(queen[i,:]) + sum(queen[:,j])\n",
    "        for k in -n+1:n-1\n",
    "            if (k <= min(n-i, n-j) && k >= max(1-i, 1-j))\n",
    "                s[i,j] += queen[i+k, j+k]\n",
    "            end\n",
    "            if (k <= min(n-i, j-1) && k >= max(1-i, j-n))\n",
    "                s[i,j] += queen[i+k, j-k]\n",
    "            end\n",
    "        end\n",
    "    end\n",
    "end\n",
    "\n",
    "\n",
    "\n",
    "# knight\n",
    "for i in 1:n\n",
    "    for j in 1:n\n",
    "        s[i,j] = s[i,j] + knight[i,j]\n",
    "        if (i-2 > 0)\n",
    "            if (j+1 < n+1)\n",
    "                s[i,j] = s[i,j] + knight[i-2,j+1]\n",
    "            end\n",
    "            if (j-1 > 0)\n",
    "                 s[i,j] = s[i,j] + knight[i-2,j-1]\n",
    "            end\n",
    "        end  \n",
    "        if (i-1 > 0)\n",
    "            if(j+2 < n+1)\n",
    "                 s[i,j] = s[i,j] + knight[i-1,j+2]\n",
    "            end\n",
    "            if(j-2 > 0)\n",
    "                 s[i,j] = s[i,j] + knight[i-1,j-2]\n",
    "            end\n",
    "        end\n",
    "         if (i+1 < n+1)\n",
    "            if(j-2 > 0)\n",
    "                 s[i,j] = s[i,j] + knight[i+1,j-2]\n",
    "            end\n",
    "            if(j+2 < n+1)\n",
    "                 s[i,j] = s[i,j] + knight[i+1,j+2]\n",
    "            end\n",
    "        end\n",
    "        if (i+2 < n+1)\n",
    "            if (j+1 < n+1)\n",
    "                s[i,j] = s[i,j] + knight[i+2,j+1]\n",
    "            end\n",
    "            if (j-1 > 0)\n",
    "                s[i,j] = s[i,j] + knight[i+2,j-1]\n",
    "            end\n",
    "        end\n",
    "    end\n",
    "end\n",
    "\n",
    "for i in 1:n\n",
    "    for j in 1:n\n",
    "        @constraint(m2, s[i,j]>=1)\n",
    "        @constraint(m2, knight[i,j]+queen[i,j]+king[i,j]<=1)\n",
    "    end\n",
    "end\n",
    "\n",
    "@objective(m2, Min, scores[1]*sum(king)+scores[2]*sum(queen)+scores[3]*sum(knight))\n",
    "status = solve(m2)\n",
    "return getvalue(king), getvalue(queen), getvalue(knight), getobjectivevalue(m2)\n",
    "end\n",
    ";"
   ]
  },
  {
   "cell_type": "markdown",
   "metadata": {
    "collapsed": true
   },
   "source": [
    "<a id='check'></a >\n",
    "### 3C. Chess Placement: Checkmate"
   ]
  },
  {
   "cell_type": "code",
   "execution_count": 44,
   "metadata": {
    "collapsed": false
   },
   "outputs": [
    {
     "name": "stderr",
     "output_type": "stream",
     "text": [
      "WARNING: Method definition checkmate(Any) in module Main at In[18]:4 overwritten at In[44]:4.\n"
     ]
    }
   ],
   "source": [
    "scores = [1/3, 3/5, 1/4, 3/16, 3/13, 3/13]; # scores of king, queen, knight, pawn, bishop, and rook respectively\n",
    "using JuMP, Cbc\n",
    "function checkmate(n)\n",
    "m2 = Model(solver=CbcSolver())\n",
    "@variable(m2, king[1:n,1:n], Bin) # king\n",
    "@variable(m2, queen[1:n,1:n], Bin) # queen\n",
    "@variable(m2, knight[1:n,1:n], Bin) # knight\n",
    "@variable(m2, pawn[1:n,1:n], Bin) # pawn\n",
    "@variable(m2, bishop[1:n,1:n], Bin) # bishop\n",
    "@variable(m2, rook[1:n,1:n], Bin) #  rook\n",
    "s=king*0 # sum\n",
    "\n",
    "# king\n",
    "for i in 1:n\n",
    "    for j in 1:n\n",
    "        s[i,j] = s[i,j] + king[i,j]\n",
    "        if (i-1 > 0)\n",
    "                s[i,j] = s[i,j] + king[i-1,j]\n",
    "            if (j+1 < n+1)\n",
    "                s[i,j] = s[i,j] + king[i,j+1]\n",
    "                s[i,j] = s[i,j] + king[i-1,j+1]\n",
    "            end\n",
    "            if (j-1 > 0)\n",
    "                s[i,j] = s[i,j] + king[i,j-1]\n",
    "                s[i,j] = s[i,j] + king[i-1,j-1]\n",
    "            end\n",
    "        end  \n",
    "         if (i+1 < n+1)\n",
    "                s[i,j] = s[i,j] + king[i+1,j]\n",
    "            if(j-1 > 0)\n",
    "                s[i,j] = s[i,j] + king[i+1,j-1]\n",
    "            end\n",
    "            if(j+1 < n+1)\n",
    "                s[i,j] = s[i,j] + king[i+1,j+1]\n",
    "            end\n",
    "        end\n",
    "    end\n",
    "end\n",
    "      \n",
    "                    \n",
    "# queen\n",
    "for i in 1:n\n",
    "    for j in 1:n\n",
    "        s[i,j] = s[i,j] + sum(queen[i,:]) + sum(queen[:,j])\n",
    "        for k in -n+1:n-1\n",
    "            if (k <= min(n-i, n-j) && k >= max(1-i, 1-j))\n",
    "                s[i,j] += queen[i+k, j+k]\n",
    "            end\n",
    "            if (k <= min(n-i, j-1) && k >= max(1-i, j-n))\n",
    "                s[i,j] += queen[i+k, j-k]\n",
    "            end\n",
    "        end\n",
    "    end\n",
    "end\n",
    "\n",
    "# knight\n",
    "for i in 1:n\n",
    "    for j in 1:n\n",
    "        s[i,j] = s[i,j] + knight[i,j]\n",
    "        if (i-2 > 0)\n",
    "            if (j+1 < n+1)\n",
    "                s[i,j] = s[i,j] + knight[i-2,j+1]\n",
    "            end\n",
    "            if (j-1 > 0)\n",
    "                 s[i,j] = s[i,j] + knight[i-2,j-1]\n",
    "            end\n",
    "        end  \n",
    "        if (i-1 > 0)\n",
    "            if(j+2 < n+1)\n",
    "                 s[i,j] = s[i,j] + knight[i-1,j+2]\n",
    "            end\n",
    "            if(j-2 > 0)\n",
    "                 s[i,j] = s[i,j] + knight[i-1,j-2]\n",
    "            end\n",
    "        end\n",
    "         if (i+1 < n+1)\n",
    "            if(j-2 > 0)\n",
    "                 s[i,j] = s[i,j] + knight[i+1,j-2]\n",
    "            end\n",
    "            if(j+2 < n+1)\n",
    "                 s[i,j] = s[i,j] + knight[i+1,j+2]\n",
    "            end\n",
    "        end\n",
    "        if (i+2 < n+1)\n",
    "            if (j+1 < n+1)\n",
    "                s[i,j] = s[i,j] + knight[i+2,j+1]\n",
    "            end\n",
    "            if (j-1 > 0)\n",
    "                s[i,j] = s[i,j] + knight[i+2,j-1]\n",
    "            end\n",
    "        end\n",
    "    end\n",
    "end\n",
    "\n",
    "                            \n",
    "# Pawn                             \n",
    "for i in 1:n\n",
    "    for j in 1:n\n",
    "        s[i,j] = s[i,j] + pawn[i,j]\n",
    "        if (i-1 > 0)\n",
    "            if (j+1 < n+1)\n",
    "                s[i,j] = s[i,j] + pawn[i-1,j+1]\n",
    "            end\n",
    "            if (j-1 > 0)\n",
    "                 s[i,j] = s[i,j] + pawn[i-1,j-1]\n",
    "            end\n",
    "        end  \n",
    "         if (i+1 < n+1)\n",
    "            if(j-1 > 0)\n",
    "                 s[i,j] = s[i,j] + pawn[i+1,j-1]\n",
    "            end\n",
    "            if(j+1 < n+1)\n",
    "                 s[i,j] = s[i,j] + pawn[i+1,j+1]\n",
    "            end\n",
    "        end\n",
    "    end\n",
    "end                   \n",
    "                                                   \n",
    "                            \n",
    "# Bishop\n",
    "                                                    \n",
    "for i = 1:n\n",
    "    for j = 1:n\n",
    "        for k in -n+1:n-1\n",
    "            if (k <= min(n-i, n-j) && k >= max(1-i, 1-j))\n",
    "                s[i,j] += bishop[i+k, j+k]\n",
    "            end\n",
    "            if (k <= min(n-i, j-1) && k >= max(1-i, j-n))\n",
    "                s[i,j] += bishop[i+k, j-k]\n",
    "            end\n",
    "        end\n",
    "    end\n",
    "end\n",
    "\n",
    "\n",
    "# Rook\n",
    "    \n",
    "for i = 1:n\n",
    "    for j = 1:n\n",
    "        s[i,j] = s[i,j] + sum(rook[i,:]) + sum(queen[:,j])\n",
    "    end\n",
    "end\n",
    "                                 \n",
    "                            \n",
    "for i in 1:n\n",
    "    for j in 1:n\n",
    "        @constraint(m2, s[i,j]>=1)\n",
    "        @constraint(m2, knight[i,j]+queen[i,j]+king[i,j]+pawn[i,j]+bishop[i,j]+rook[i,j]<=1)\n",
    "    end\n",
    "end\n",
    "@constraint(m2, sum(king) <= 1)   \n",
    "@constraint(m2, sum(queen) <= 1)\n",
    "@constraint(m2, sum(knight) <= 1)    \n",
    "@constraint(m2, sum(pawn) <= 8)   \n",
    "@constraint(m2, sum(bishop) <= 2)\n",
    "@constraint(m2, sum(rook) <= 2)                       \n",
    "@objective(m2, Min, scores[1]*sum(king)+scores[2]*sum(queen)+scores[3]*sum(knight)+scores[4]*sum(pawn)+scores[5]*sum(bishop)+scores[6]*sum(rook))\n",
    "status = solve(m2)\n",
    "return getvalue(king), getvalue(queen), getvalue(knight), getvalue(pawn), getvalue(bishop), getvalue(rook), getobjectivevalue(m2)\n",
    "end\n",
    ";"
   ]
  },
  {
   "cell_type": "markdown",
   "metadata": {
    "collapsed": true
   },
   "source": [
    "<a id='discussion'></a >\n",
    "# 4. Results and Discussion"
   ]
  },
  {
   "cell_type": "markdown",
   "metadata": {
    "collapsed": false,
    "scrolled": true
   },
   "source": [
    "<a id='analysis1'></a >\n",
    "### 4A. Singular placement results and tradeoff analysis "
   ]
  },
  {
   "cell_type": "markdown",
   "metadata": {
    "collapsed": true
   },
   "source": [
    "The singular placement results shows that the on an 8*8 chessboard, even though the knight seems to be more powerful (able to cover more range than the pawn), we can place the same number of knights and pawns on the board for Independence problem. While for the domination problem, queens ranks the first for threatening the board and pawns ranks the last as expected. \n",
    "\n",
    "\n",
    "#### 4A - Independence "
   ]
  },
  {
   "cell_type": "code",
   "execution_count": 45,
   "metadata": {
    "collapsed": false
   },
   "outputs": [
    {
     "name": "stdout",
     "output_type": "stream",
     "text": [
      "maxNumber of knights = 32.0\n",
      "+---+---+---+---+---+---+---+---+\n",
      "| N |   | N |   | N |   | N |   | \n",
      "+---+---+---+---+---+---+---+---+\n",
      "|   | N |   | N |   | N |   | N | \n",
      "+---+---+---+---+---+---+---+---+\n",
      "| N |   | N |   | N |   | N |   | \n",
      "+---+---+---+---+---+---+---+---+\n",
      "|   | N |   | N |   | N |   | N | \n",
      "+---+---+---+---+---+---+---+---+\n",
      "| N |   | N |   | N |   | N |   | \n",
      "+---+---+---+---+---+---+---+---+\n",
      "|   | N |   | N |   | N |   | N | \n",
      "+---+---+---+---+---+---+---+---+\n",
      "| N |   | N |   | N |   | N |   | \n",
      "+---+---+---+---+---+---+---+---+\n",
      "|   | N |   | N |   | N |   | N | \n",
      "+---+---+---+---+---+---+---+---+\n"
     ]
    }
   ],
   "source": [
    "(X, O) = knightIndependence(8)\n",
    "println(\"maxNumber of knights = \", O)\n",
    "Y = X*0\n",
    "printBoard(Y,Y,X,Y,Y,Y,8)"
   ]
  },
  {
   "cell_type": "code",
   "execution_count": 46,
   "metadata": {
    "collapsed": false
   },
   "outputs": [
    {
     "name": "stdout",
     "output_type": "stream",
     "text": [
      "maxNumber of pawns = 32.0\n",
      "+---+---+---+---+---+---+---+---+\n",
      "| P |   | P | P | P | P |   | P | \n",
      "+---+---+---+---+---+---+---+---+\n",
      "| P |   |   |   |   |   |   | P | \n",
      "+---+---+---+---+---+---+---+---+\n",
      "| P |   | P |   | P | P |   | P | \n",
      "+---+---+---+---+---+---+---+---+\n",
      "| P |   | P |   |   |   |   | P | \n",
      "+---+---+---+---+---+---+---+---+\n",
      "| P |   |   |   |   |   |   | P | \n",
      "+---+---+---+---+---+---+---+---+\n",
      "| P |   | P | P | P | P |   | P | \n",
      "+---+---+---+---+---+---+---+---+\n",
      "|   |   |   |   |   |   |   |   | \n",
      "+---+---+---+---+---+---+---+---+\n",
      "| P | P | P | P | P | P | P | P | \n",
      "+---+---+---+---+---+---+---+---+\n"
     ]
    }
   ],
   "source": [
    "(X, O) = pawnIndependence(8)\n",
    "println(\"maxNumber of pawns = \", O)\n",
    "Y = X*0\n",
    "printBoard(Y,Y,Y,X,Y,Y,8)"
   ]
  },
  {
   "cell_type": "code",
   "execution_count": 47,
   "metadata": {
    "collapsed": false
   },
   "outputs": [
    {
     "name": "stdout",
     "output_type": "stream",
     "text": [
      "maxNumber of kings = 16.0\n",
      "+---+---+---+---+---+---+---+---+\n",
      "| K |   | K |   |   | K |   | K | \n",
      "+---+---+---+---+---+---+---+---+\n",
      "|   |   |   |   |   |   |   |   | \n",
      "+---+---+---+---+---+---+---+---+\n",
      "| K |   | K |   |   | K |   | K | \n",
      "+---+---+---+---+---+---+---+---+\n",
      "|   |   |   |   |   |   |   |   | \n",
      "+---+---+---+---+---+---+---+---+\n",
      "|   |   |   |   |   |   |   |   | \n",
      "+---+---+---+---+---+---+---+---+\n",
      "| K |   | K |   |   | K |   | K | \n",
      "+---+---+---+---+---+---+---+---+\n",
      "|   |   |   |   |   |   |   |   | \n",
      "+---+---+---+---+---+---+---+---+\n",
      "| K |   | K |   |   | K |   | K | \n",
      "+---+---+---+---+---+---+---+---+\n"
     ]
    }
   ],
   "source": [
    "(X, O) = kingIndependence(8)\n",
    "println(\"maxNumber of kings = \", O)\n",
    "Y = X*0\n",
    "printBoard(X,Y,Y,Y,Y,Y,8)"
   ]
  },
  {
   "cell_type": "markdown",
   "metadata": {},
   "source": [
    "##### Tradeoff Analysis\n",
    "Based on the result, we did a sensitivity analysis corresponding to the size of the chessboard. Through altering the size of the chessboard, we plotted the changes of total possible placement number of each chess on the graph. For the independence case, the king turned out to be the most insensitive to the boardsize change with an increase of 2 units per size increase. On the other hand, number of knights and pawns displays a tremendous increase as the dimension increases, with an average increasing rate of 5 chess/size change.  "
   ]
  },
  {
   "cell_type": "code",
   "execution_count": 48,
   "metadata": {
    "collapsed": false
   },
   "outputs": [
    {
     "data": {
      "image/png": "[encoded data removed]",
      "text/plain": [
       "PyPlot.Figure(PyObject <matplotlib.figure.Figure object at 0x7f5f3027f950>)"
      ]
     },
     "metadata": {},
     "output_type": "display_data"
    },
    {
     "data": {
      "text/plain": [
       "PyObject <matplotlib.legend.Legend object at 0x7f5f2ff89250>"
      ]
     },
     "execution_count": 48,
     "metadata": {},
     "output_type": "execute_result"
    }
   ],
   "source": [
    "# Independence\n",
    "dimension = [i for i = 1:10]\n",
    "n = zeros(10)\n",
    "p = zeros(10)\n",
    "k = zeros(10)\n",
    "for i in dimension\n",
    "    (X,ON) = knightIndependence(i)\n",
    "    (Y,OP) = pawnIndependence(i)\n",
    "    (Z,OK) = kingIndependence(i)\n",
    "    n[i] = ON\n",
    "    p[i] = OP\n",
    "    k[i] = OK\n",
    "end\n",
    ";\n",
    "\n",
    "using PyPlot\n",
    "fig = figure(figsize=(10,4))\n",
    "grid()\n",
    "title(\"Independence Tradeoff\")\n",
    "xlabel(\"Dimension\")\n",
    "ylabel(\"number of chess\")\n",
    "plot(dimension, n, \"r.-\", dimension, p, \"y.-\", dimension, k, \"g.-\")\n",
    "legend([\"knight\", \"pawn\", \"king\"], loc = \"upper left\")"
   ]
  },
  {
   "cell_type": "markdown",
   "metadata": {},
   "source": [
    "\n",
    "#### 4A - Domination "
   ]
  },
  {
   "cell_type": "code",
   "execution_count": 49,
   "metadata": {
    "collapsed": false
   },
   "outputs": [
    {
     "name": "stdout",
     "output_type": "stream",
     "text": [
      "minNumber of knights = 12.0\n",
      "+---+---+---+---+---+---+---+---+\n",
      "|   |   |   |   |   |   |   |   | \n",
      "+---+---+---+---+---+---+---+---+\n",
      "|   |   | N |   |   |   |   |   | \n",
      "+---+---+---+---+---+---+---+---+\n",
      "|   |   | N | N |   | N | N |   | \n",
      "+---+---+---+---+---+---+---+---+\n",
      "|   |   |   |   |   | N |   |   | \n",
      "+---+---+---+---+---+---+---+---+\n",
      "|   |   | N |   |   |   |   |   | \n",
      "+---+---+---+---+---+---+---+---+\n",
      "|   | N | N |   | N | N |   |   | \n",
      "+---+---+---+---+---+---+---+---+\n",
      "|   |   |   |   |   | N |   |   | \n",
      "+---+---+---+---+---+---+---+---+\n",
      "|   |   |   |   |   |   |   |   | \n",
      "+---+---+---+---+---+---+---+---+\n"
     ]
    }
   ],
   "source": [
    "(X, O) = knightDomination(8)\n",
    "println(\"minNumber of knights = \", O)\n",
    "Y = X*0\n",
    "printBoard(Y,Y,X,Y,Y,Y,8)"
   ]
  },
  {
   "cell_type": "code",
   "execution_count": 50,
   "metadata": {
    "collapsed": false
   },
   "outputs": [
    {
     "name": "stdout",
     "output_type": "stream",
     "text": [
      "minNumber of pawns = 16.0\n",
      "+---+---+---+---+---+---+---+---+\n",
      "|   |   |   |   |   |   |   |   | \n",
      "+---+---+---+---+---+---+---+---+\n",
      "|   | P | P |   |   | P | P |   | \n",
      "+---+---+---+---+---+---+---+---+\n",
      "|   | P | P |   |   | P | P |   | \n",
      "+---+---+---+---+---+---+---+---+\n",
      "|   |   |   |   |   |   |   |   | \n",
      "+---+---+---+---+---+---+---+---+\n",
      "|   |   |   |   |   |   |   |   | \n",
      "+---+---+---+---+---+---+---+---+\n",
      "|   | P | P |   |   | P | P |   | \n",
      "+---+---+---+---+---+---+---+---+\n",
      "|   | P | P |   |   | P | P |   | \n",
      "+---+---+---+---+---+---+---+---+\n",
      "|   |   |   |   |   |   |   |   | \n",
      "+---+---+---+---+---+---+---+---+\n"
     ]
    }
   ],
   "source": [
    "(X, O) = pawnDomination(8)\n",
    "println(\"minNumber of pawns = \", O)\n",
    "Y = X*0\n",
    "printBoard(Y,Y,Y,X,Y,Y,8)"
   ]
  },
  {
   "cell_type": "code",
   "execution_count": 51,
   "metadata": {
    "collapsed": false
   },
   "outputs": [
    {
     "name": "stdout",
     "output_type": "stream",
     "text": [
      "minNumber of Kings = 9.0\n",
      "+---+---+---+---+---+---+---+---+\n",
      "|   |   |   |   |   |   |   |   | \n",
      "+---+---+---+---+---+---+---+---+\n",
      "| K |   |   | K |   |   | K |   | \n",
      "+---+---+---+---+---+---+---+---+\n",
      "|   |   |   |   |   |   |   |   | \n",
      "+---+---+---+---+---+---+---+---+\n",
      "|   |   |   |   |   |   |   |   | \n",
      "+---+---+---+---+---+---+---+---+\n",
      "|   | K |   |   | K |   |   | K | \n",
      "+---+---+---+---+---+---+---+---+\n",
      "|   |   |   |   |   |   |   |   | \n",
      "+---+---+---+---+---+---+---+---+\n",
      "|   |   |   |   |   |   |   | K | \n",
      "+---+---+---+---+---+---+---+---+\n",
      "|   | K |   |   | K |   |   |   | \n",
      "+---+---+---+---+---+---+---+---+\n"
     ]
    }
   ],
   "source": [
    "(X, O) = kingDomination(8)\n",
    "println(\"minNumber of Kings = \", O)\n",
    "Y = X*0\n",
    "printBoard(X,Y,Y,Y,Y,Y,8)"
   ]
  },
  {
   "cell_type": "markdown",
   "metadata": {},
   "source": [
    "##### Tradeoff Analysis\n",
    "\n",
    "While for the domination problem, pawns increases the fastest as the size of chess board increases, while king and and knights are relatively insensitive to the size changes. Pawn's rapid correspondence to change of dimension becomes obvious starting from the point with dimension of 5.    "
   ]
  },
  {
   "cell_type": "code",
   "execution_count": 52,
   "metadata": {
    "collapsed": false
   },
   "outputs": [
    {
     "data": {
      "image/png": "[encoded data removed]",
      "text/plain": [
       "PyPlot.Figure(PyObject <matplotlib.figure.Figure object at 0x7f5f2fffc290>)"
      ]
     },
     "metadata": {},
     "output_type": "display_data"
    },
    {
     "data": {
      "text/plain": [
       "PyObject <matplotlib.legend.Legend object at 0x7f5f2fee8150>"
      ]
     },
     "execution_count": 52,
     "metadata": {},
     "output_type": "execute_result"
    }
   ],
   "source": [
    "# Domination\n",
    "dimension = [i for i = 1:10]\n",
    "n = zeros(10)\n",
    "p = zeros(10)\n",
    "k = zeros(10)\n",
    "for i in dimension\n",
    "    (X,ON) = knightDomination(i)\n",
    "    (Y,OP) = pawnDomination(i)\n",
    "    (Z,OK) = kingDomination(i)\n",
    "    n[i] = ON\n",
    "    p[i] = OP\n",
    "    k[i] = OK\n",
    "end\n",
    ";\n",
    "\n",
    "using PyPlot\n",
    "fig = figure(figsize=(10,4))\n",
    "grid()\n",
    "title(\"Domination Tradeoff\")\n",
    "xlabel(\"Dimension\")\n",
    "ylabel(\"number of chess\")\n",
    "plot(dimension, n, \"r.-\", dimension, p, \"y.-\", dimension, k, \"g.-\")\n",
    "legend([\"knight\", \"pawn\", \"king\"], loc = \"upper left\")"
   ]
  },
  {
   "cell_type": "markdown",
   "metadata": {
    "collapsed": true
   },
   "source": [
    "<a id='analysis2'></a >\n",
    "### 4B. Mixed placement results"
   ]
  },
  {
   "cell_type": "markdown",
   "metadata": {
    "collapsed": true
   },
   "source": [
    "The mixed placement result shows that the most optimized way of dominating a chessboard is to use 2 kings and 3 queens without any knights with the scores that were assigned to them individually. This is not surprising since the knights are considered have the least threatening power on the board among king and queen. \n",
    "\n",
    "Conducting another tradeoff analysis related to the chessboard does not seem to be reasonable here. Since the change of size board can render possible change of switching use of chess types ,therefore, it is quite hard to keep track of the number change of the chess. Thus, we decide not to do a trade off analysis."
   ]
  },
  {
   "cell_type": "code",
   "execution_count": 53,
   "metadata": {
    "collapsed": false
   },
   "outputs": [
    {
     "name": "stdout",
     "output_type": "stream",
     "text": [
      "minNumber of Kings = 2.0\n",
      "Number of queen = 3.0\n",
      "Number of knights = 0.0\n",
      "Minimum score is 2.466666666666667\n",
      "A solution is: \n",
      "+---+---+---+---+---+---+---+---+\n",
      "|   |   |   |   |   |   |   | Q | \n",
      "+---+---+---+---+---+---+---+---+\n",
      "|   |   |   |   |   |   |   |   | \n",
      "+---+---+---+---+---+---+---+---+\n",
      "|   |   |   | K |   |   |   |   | \n",
      "+---+---+---+---+---+---+---+---+\n",
      "|   |   |   |   |   |   |   |   | \n",
      "+---+---+---+---+---+---+---+---+\n",
      "|   |   |   |   |   | K |   |   | \n",
      "+---+---+---+---+---+---+---+---+\n",
      "|   |   |   |   |   |   |   |   | \n",
      "+---+---+---+---+---+---+---+---+\n",
      "| Q |   |   |   |   |   |   |   | \n",
      "+---+---+---+---+---+---+---+---+\n",
      "|   | Q |   |   |   |   |   |   | \n",
      "+---+---+---+---+---+---+---+---+\n"
     ]
    }
   ],
   "source": [
    "(X,Y,Z,O) = mixDomination(1/3, 3/5, 1/4)\n",
    "println(\"minNumber of Kings = \", sum(X))\n",
    "println(\"Number of queen = \", sum(Y))\n",
    "println(\"Number of knights = \", sum(Z))\n",
    "println(\"Minimum score is \", O) \n",
    "println(\"A solution is: \")\n",
    "A = X*0\n",
    "printBoard(X,Y,Z,A,A,A,8)"
   ]
  },
  {
   "cell_type": "markdown",
   "metadata": {
    "collapsed": true
   },
   "source": [
    "<a id='analysis3'></a >\n",
    "### 4C. Chess Placement: Checkmate and tradeoff analysis"
   ]
  },
  {
   "cell_type": "markdown",
   "metadata": {
    "collapsed": true
   },
   "source": [
    "The mixed placement for a whole set of chess suggests that 1 king, 1 queen, 1 knight, 3 pawns, 2 bishops are needed for occupying the whole chessboard. Therefore, we have proven that it is feasible to occupy the whole chessboard within only one kingdom of chess members. "
   ]
  },
  {
   "cell_type": "code",
   "execution_count": 54,
   "metadata": {
    "collapsed": false
   },
   "outputs": [
    {
     "name": "stdout",
     "output_type": "stream",
     "text": [
      "Number of kings = 1.0\n",
      "Number of queens = 1.0\n",
      "Number of knights = 1.0\n",
      "Number of pawns = 3.0\n",
      "Number of bishops = 2.0\n",
      "Number of rooks = 0.0\n",
      "Minimum score is 2.207371794871795\n",
      "A solution is: \n",
      "+---+---+---+---+---+---+---+---+\n",
      "|   |   |   |   |   |   |   |   | \n",
      "+---+---+---+---+---+---+---+---+\n",
      "|   |   |   | B |   |   |   |   | \n",
      "+---+---+---+---+---+---+---+---+\n",
      "|   |   | N | P |   |   |   | Q | \n",
      "+---+---+---+---+---+---+---+---+\n",
      "|   |   |   | B |   |   |   |   | \n",
      "+---+---+---+---+---+---+---+---+\n",
      "|   |   |   |   |   |   |   |   | \n",
      "+---+---+---+---+---+---+---+---+\n",
      "|   |   |   |   |   |   |   |   | \n",
      "+---+---+---+---+---+---+---+---+\n",
      "|   | P | P |   |   | K |   |   | \n",
      "+---+---+---+---+---+---+---+---+\n",
      "|   |   |   |   |   |   |   |   | \n",
      "+---+---+---+---+---+---+---+---+\n"
     ]
    }
   ],
   "source": [
    "(K,Q,N,P,B,R,O) = checkmate(8)\n",
    "println(\"Number of kings = \", sum(K))                                \n",
    "println(\"Number of queens = \", sum(Q))\n",
    "println(\"Number of knights = \", sum(N))\n",
    "println(\"Number of pawns = \", sum(P))\n",
    "println(\"Number of bishops = \", sum(B))\n",
    "println(\"Number of rooks = \", sum(R))                 \n",
    "println(\"Minimum score is \", O)\n",
    "println(\"A solution is: \")\n",
    "printBoard(K,Q,N,P,B,R,8)"
   ]
  },
  {
   "cell_type": "markdown",
   "metadata": {},
   "source": [
    "##### Tradeoff Analysis\n",
    "\n",
    "Under this scenanrio, sensitivity analysis associated with score changes do not become reasonable since there are 6 members of chess we need to keep track with. So it would be hard to determine the relationship among them. On the other hand, the approach along with demonsion size turns out be to a viable option here since the total sum score (one kingdom) is fixed. Here we simulated the checkmate situation where we utilized the least number of forces to occupy a certain area. \n",
    "\n",
    "From the result, we can observe a linear relationshop between the dimension and the minimum sum scores of the chess group from dimension three. The requiring sumscore remains same for the size 1 and 2 since one queen can easily occupy all the space here. The linear relationshop actually surprised us since increasing the dimension actually does not result a linear increase on the area, but the sum score turned out to increase linearly.\n",
    "\n",
    "The main takeaway here is the result of the chess group that needed for the chessboard with a dimension of 3. A dimension of 3 chessboard represents the moving range of a king and it can serve as a reference for the minimum forces needed for checkmate (1 queen and 2 bishop). On the other hand, the size 8 chessboard results represents the maximum forces needed for checkmate(printed in part 3). "
   ]
  },
  {
   "cell_type": "code",
   "execution_count": 55,
   "metadata": {
    "collapsed": false
   },
   "outputs": [
    {
     "name": "stdout",
     "output_type": "stream",
     "text": [
      "Dimension = 1\n",
      "+---+\n",
      "| P | \n",
      "+---+\n",
      "\n",
      "Dimension = 2\n",
      "+---+---+\n",
      "|   |   | \n",
      "+---+---+\n",
      "|   | K | \n",
      "+---+---+\n",
      "\n",
      "Dimension = 3\n",
      "+---+---+---+\n",
      "|   |   |   | \n",
      "+---+---+---+\n",
      "|   | K |   | \n",
      "+---+---+---+\n",
      "|   |   |   | \n",
      "+---+---+---+\n",
      "\n",
      "Dimension = 4\n",
      "+---+---+---+---+\n",
      "|   |   |   |   | \n",
      "+---+---+---+---+\n",
      "|   | P | P |   | \n",
      "+---+---+---+---+\n",
      "|   | P | P |   | \n",
      "+---+---+---+---+\n",
      "|   |   |   |   | \n",
      "+---+---+---+---+\n",
      "\n",
      "Dimension = 5\n",
      "+---+---+---+---+---+\n",
      "|   |   |   |   |   | \n",
      "+---+---+---+---+---+\n",
      "|   |   |   |   |   | \n",
      "+---+---+---+---+---+\n",
      "|   | B | Q | B |   | \n",
      "+---+---+---+---+---+\n",
      "|   |   |   |   |   | \n",
      "+---+---+---+---+---+\n",
      "|   |   |   |   |   | \n",
      "+---+---+---+---+---+\n",
      "\n",
      "Dimension = 6\n",
      "+---+---+---+---+---+---+\n",
      "|   |   |   |   |   |   | \n",
      "+---+---+---+---+---+---+\n",
      "|   |   |   |   |   |   | \n",
      "+---+---+---+---+---+---+\n",
      "|   | B | Q | B | P |   | \n",
      "+---+---+---+---+---+---+\n",
      "|   |   |   |   |   |   | \n",
      "+---+---+---+---+---+---+\n",
      "|   |   | P |   |   |   | \n",
      "+---+---+---+---+---+---+\n",
      "|   |   |   |   |   |   | \n",
      "+---+---+---+---+---+---+\n",
      "\n",
      "Dimension = 7\n",
      "+---+---+---+---+---+---+---+\n",
      "|   |   |   |   |   |   |   | \n",
      "+---+---+---+---+---+---+---+\n",
      "|   | P |   |   |   | P |   | \n",
      "+---+---+---+---+---+---+---+\n",
      "|   |   |   |   |   |   |   | \n",
      "+---+---+---+---+---+---+---+\n",
      "|   |   | B | Q | B |   |   | \n",
      "+---+---+---+---+---+---+---+\n",
      "|   |   |   |   |   |   |   | \n",
      "+---+---+---+---+---+---+---+\n",
      "|   | P |   |   |   | P |   | \n",
      "+---+---+---+---+---+---+---+\n",
      "|   |   |   |   |   |   |   | \n",
      "+---+---+---+---+---+---+---+\n",
      "\n",
      "Dimension = 8\n",
      "+---+---+---+---+---+---+---+---+\n",
      "|   |   |   |   |   |   |   |   | \n",
      "+---+---+---+---+---+---+---+---+\n",
      "|   |   |   | B |   |   |   |   | \n",
      "+---+---+---+---+---+---+---+---+\n",
      "|   |   | N | P |   |   |   | Q | \n",
      "+---+---+---+---+---+---+---+---+\n",
      "|   |   |   | B |   |   |   |   | \n",
      "+---+---+---+---+---+---+---+---+\n",
      "|   |   |   |   |   |   |   |   | \n",
      "+---+---+---+---+---+---+---+---+\n",
      "|   |   |   |   |   |   |   |   | \n",
      "+---+---+---+---+---+---+---+---+\n",
      "|   | P | P |   |   | K |   |   | \n",
      "+---+---+---+---+---+---+---+---+\n",
      "|   |   |   |   |   |   |   |   | \n",
      "+---+---+---+---+---+---+---+---+\n",
      "\n"
     ]
    }
   ],
   "source": [
    "# checkmate\n",
    "dimension = [i for i = 1:8]\n",
    "o = zeros(8)\n",
    "for i in dimension\n",
    "    (K,Q,N,P,B,R,O) = checkmate(i)\n",
    "    println(\"Dimension = \", i)          \n",
    "    printBoard(K,Q,N,P,B,R,i)\n",
    "    println(\"\")\n",
    "    o[i] = O\n",
    "end\n",
    ";"
   ]
  },
  {
   "cell_type": "code",
   "execution_count": 56,
   "metadata": {
    "collapsed": false
   },
   "outputs": [
    {
     "data": {
      "image/png": "[encoded data removed]",
      "text/plain": [
       "PyPlot.Figure(PyObject <matplotlib.figure.Figure object at 0x7f5f2ffbbfd0>)"
      ]
     },
     "metadata": {},
     "output_type": "display_data"
    },
    {
     "data": {
      "text/plain": [
       "1-element Array{Any,1}:\n",
       " PyObject <matplotlib.lines.Line2D object at 0x7f5f2fe3d350>"
      ]
     },
     "execution_count": 56,
     "metadata": {},
     "output_type": "execute_result"
    }
   ],
   "source": [
    "using PyPlot\n",
    "fig = figure(figsize=(10,4))\n",
    "grid()\n",
    "title(\"Checkmate Tradeoff\")\n",
    "xlabel(\"Dimension\")\n",
    "ylabel(\"minScores\")\n",
    "plot(dimension, o, \"r.-\")"
   ]
  },
  {
   "cell_type": "markdown",
   "metadata": {
    "collapsed": true
   },
   "source": [
    "<a id='analysis4'></a >\n",
    "### 4D. Model Limitation and Further Improvements"
   ]
  },
  {
   "cell_type": "markdown",
   "metadata": {
    "collapsed": true
   },
   "source": [
    "One limitation of the modeling is the algorithm of the pawn. The assumption for the pawn is that it can attack its four corners, while in real chess rule, pawns can only reach its forwarding corners. Such deviation of model design can lead to an over estimation of pawn's threatening power, resulting the real total placement scores being underestimated. \n",
    "\n",
    "Another limitation of the modeling is that in real chess game, it is not necessary for us to cover the whole chess board for checkmate but a certain area of the board. We were only able to change the length n from the tradeoff analysis. However, it can not cover other shapes of area other than a square. Thus, one further approach that we can conduct is to come up with some other variables that can alter the chess board size more flexibly.  \n",
    "\n",
    "Moreover, in real chess game, king is usually not involved with direct conflicts with the enemy, not even mention contributing to checkmate. Therefore, one improvement can be done for the checkmate analysis is to exclude the use of king. "
   ]
  },
  {
   "cell_type": "markdown",
   "metadata": {},
   "source": [
    "<a id='conclusion'></a >\n",
    "# 5. Conclusion "
   ]
  },
  {
   "cell_type": "markdown",
   "metadata": {
    "collapsed": true
   },
   "source": [
    "The report presents a further exploration based on the Queen Independence and dominance placement problems. We examined the problem through mixed integer models and solved the placement pattern of other chess members. In addition, we also assigned each chess with different scores that representing its threatening power. The scores are based on the previous results of singular chess replacement. With the scoring, we were able to modeling the optimized placement under the mixed types of chess selections. The solution represents the most effective way of placing chess and can serve as a reference for real strategy. Likewise, the dominance problem can be viewed as the situation for checkmate. One further approach we can do to optimize our checkmate placement is to involve another variable that certifies the regions instead of just altering the board size. In that way, such algorithrim can be used for developing real chess strategy. Moreover, the way of determining assign scores for each chess memeber is not fully justified. Another further approach that we can do is to explore some other algorithm for determining the relative weights among all the chesses.    "
   ]
  }
 ],
 "metadata": {
  "kernelspec": {
   "display_name": "Julia 0.5.2",
   "language": "julia",
   "name": "julia-0.5"
  },
  "language_info": {
   "file_extension": ".jl",
   "mimetype": "application/julia",
   "name": "julia",
   "version": "0.5.2"
  }
 },
 "nbformat": 4,
 "nbformat_minor": 1
}
